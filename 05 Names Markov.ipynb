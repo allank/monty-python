{
 "cells": [
  {
   "cell_type": "code",
   "execution_count": 1,
   "metadata": {
    "collapsed": true
   },
   "outputs": [],
   "source": [
    "import pandas as pd\n",
    "import markovify"
   ]
  },
  {
   "cell_type": "code",
   "execution_count": 2,
   "metadata": {
    "collapsed": true
   },
   "outputs": [],
   "source": [
    "df = pd.read_excel('merged.xlsx')"
   ]
  },
  {
   "cell_type": "code",
   "execution_count": 3,
   "metadata": {
    "collapsed": true
   },
   "outputs": [],
   "source": [
    "text = '\\n'.join(df[df['type']=='Dialogue']['detail'].tolist())"
   ]
  },
  {
   "cell_type": "code",
   "execution_count": 4,
   "metadata": {
    "collapsed": true
   },
   "outputs": [],
   "source": [
    "text_model = markovify.Text(text, state_size=3)"
   ]
  },
  {
   "cell_type": "code",
   "execution_count": 30,
   "metadata": {},
   "outputs": [
    {
     "name": "stdout",
     "output_type": "stream",
     "text": [
      "Well what do you do Mr...\n",
      "Remember, buy Whizzo butter and this dead crab.\n",
      "Yeah, er, I, I personally think this is getting too silly.\n"
     ]
    }
   ],
   "source": [
    "for i in range(3):\n",
    "    print(text_model.make_short_sentence(140))"
   ]
  },
  {
   "cell_type": "code",
   "execution_count": 6,
   "metadata": {},
   "outputs": [
    {
     "name": "stdout",
     "output_type": "stream",
     "text": [
      "Anyway just have a nice garden.\n",
      "Well take a look at the batteries.\n",
      "There's usually four or five a week.\n",
      "Um...I don't know if I want to talk about... well actually I am talking about it now, but I am a bank robber.\n",
      "Well I've been in touch with a bank?\n",
      "Good evening, here is the big swing to the Silly Party has taken Luton.\n",
      "Well don't worry about me.\n",
      "Nice day, sir, Yes, flowers could do with a bit of'exercise, ha! ha! ha!\n",
      "I don't like the sound of two bricks being bashed together.\n",
      "Now then Horton, you've been with us for the Royal Archives.\n"
     ]
    }
   ],
   "source": [
    "for i in range(10):\n",
    "    print(text_model.make_short_sentence(140))"
   ]
  },
  {
   "cell_type": "code",
   "execution_count": null,
   "metadata": {
    "collapsed": true
   },
   "outputs": [],
   "source": []
  }
 ],
 "metadata": {
  "anaconda-cloud": {},
  "kernelspec": {
   "display_name": "Python [Root]",
   "language": "python",
   "name": "Python [Root]"
  },
  "language_info": {
   "codemirror_mode": {
    "name": "ipython",
    "version": 3
   },
   "file_extension": ".py",
   "mimetype": "text/x-python",
   "name": "python",
   "nbconvert_exporter": "python",
   "pygments_lexer": "ipython3",
   "version": "3.5.2"
  }
 },
 "nbformat": 4,
 "nbformat_minor": 2
}
