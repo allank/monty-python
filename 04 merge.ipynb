{
 "cells": [
  {
   "cell_type": "code",
   "execution_count": 1,
   "metadata": {
    "collapsed": true
   },
   "outputs": [],
   "source": [
    "import pandas as pd"
   ]
  },
  {
   "cell_type": "code",
   "execution_count": 2,
   "metadata": {
    "collapsed": true
   },
   "outputs": [],
   "source": [
    "detail_df = pd.read_excel('transmission_details.xlsx')"
   ]
  },
  {
   "cell_type": "code",
   "execution_count": 3,
   "metadata": {},
   "outputs": [
    {
     "data": {
      "text/html": [
       "<div>\n",
       "<style>\n",
       "    .dataframe thead tr:only-child th {\n",
       "        text-align: right;\n",
       "    }\n",
       "\n",
       "    .dataframe thead th {\n",
       "        text-align: left;\n",
       "    }\n",
       "\n",
       "    .dataframe tbody tr th {\n",
       "        vertical-align: top;\n",
       "    }\n",
       "</style>\n",
       "<table border=\"1\" class=\"dataframe\">\n",
       "  <thead>\n",
       "    <tr style=\"text-align: right;\">\n",
       "      <th></th>\n",
       "      <th>episode</th>\n",
       "      <th>record_date</th>\n",
       "      <th>series</th>\n",
       "      <th>transmission_date</th>\n",
       "    </tr>\n",
       "  </thead>\n",
       "  <tbody>\n",
       "    <tr>\n",
       "      <th>0</th>\n",
       "      <td>1</td>\n",
       "      <td>1969-09-07</td>\n",
       "      <td>1/1</td>\n",
       "      <td>1969-10-05</td>\n",
       "    </tr>\n",
       "    <tr>\n",
       "      <th>1</th>\n",
       "      <td>2</td>\n",
       "      <td>1969-08-30</td>\n",
       "      <td>1/2</td>\n",
       "      <td>1969-10-12</td>\n",
       "    </tr>\n",
       "    <tr>\n",
       "      <th>2</th>\n",
       "      <td>3</td>\n",
       "      <td>1969-08-14</td>\n",
       "      <td>1/3</td>\n",
       "      <td>1969-10-19</td>\n",
       "    </tr>\n",
       "    <tr>\n",
       "      <th>3</th>\n",
       "      <td>4</td>\n",
       "      <td>1969-09-21</td>\n",
       "      <td>1/4</td>\n",
       "      <td>1969-10-26</td>\n",
       "    </tr>\n",
       "    <tr>\n",
       "      <th>4</th>\n",
       "      <td>5</td>\n",
       "      <td>1969-10-03</td>\n",
       "      <td>1/5</td>\n",
       "      <td>1969-11-16</td>\n",
       "    </tr>\n",
       "  </tbody>\n",
       "</table>\n",
       "</div>"
      ],
      "text/plain": [
       "   episode record_date series transmission_date\n",
       "0        1  1969-09-07    1/1        1969-10-05\n",
       "1        2  1969-08-30    1/2        1969-10-12\n",
       "2        3  1969-08-14    1/3        1969-10-19\n",
       "3        4  1969-09-21    1/4        1969-10-26\n",
       "4        5  1969-10-03    1/5        1969-11-16"
      ]
     },
     "execution_count": 3,
     "metadata": {},
     "output_type": "execute_result"
    }
   ],
   "source": [
    "detail_df.head()"
   ]
  },
  {
   "cell_type": "code",
   "execution_count": 4,
   "metadata": {
    "collapsed": true
   },
   "outputs": [],
   "source": [
    "scripts_df = pd.read_excel('excel/full.xlsx')"
   ]
  },
  {
   "cell_type": "code",
   "execution_count": 5,
   "metadata": {},
   "outputs": [
    {
     "data": {
      "text/html": [
       "<div>\n",
       "<style>\n",
       "    .dataframe thead tr:only-child th {\n",
       "        text-align: right;\n",
       "    }\n",
       "\n",
       "    .dataframe thead th {\n",
       "        text-align: left;\n",
       "    }\n",
       "\n",
       "    .dataframe tbody tr th {\n",
       "        vertical-align: top;\n",
       "    }\n",
       "</style>\n",
       "<table border=\"1\" class=\"dataframe\">\n",
       "  <thead>\n",
       "    <tr style=\"text-align: right;\">\n",
       "      <th></th>\n",
       "      <th>episode</th>\n",
       "      <th>episode_name</th>\n",
       "      <th>segment</th>\n",
       "      <th>type</th>\n",
       "      <th>actor</th>\n",
       "      <th>character</th>\n",
       "      <th>detail</th>\n",
       "    </tr>\n",
       "  </thead>\n",
       "  <tbody>\n",
       "    <tr>\n",
       "      <th>0</th>\n",
       "      <td>1</td>\n",
       "      <td>Episode One: Whither Canada?</td>\n",
       "      <td>NaN</td>\n",
       "      <td>Direction</td>\n",
       "      <td>NaN</td>\n",
       "      <td>NaN</td>\n",
       "      <td>A seashore. Some way out to sea a ragged man i...</td>\n",
       "    </tr>\n",
       "    <tr>\n",
       "      <th>1</th>\n",
       "      <td>1</td>\n",
       "      <td>Episode One: Whither Canada?</td>\n",
       "      <td>NaN</td>\n",
       "      <td>Dialogue</td>\n",
       "      <td>Michael Palin</td>\n",
       "      <td>It's Man</td>\n",
       "      <td>It's...</td>\n",
       "    </tr>\n",
       "    <tr>\n",
       "      <th>2</th>\n",
       "      <td>1</td>\n",
       "      <td>Episode One: Whither Canada?</td>\n",
       "      <td>NaN</td>\n",
       "      <td>Dialogue</td>\n",
       "      <td>John Cleese</td>\n",
       "      <td>Voice Over</td>\n",
       "      <td>Monty Python's Flying Circus.</td>\n",
       "    </tr>\n",
       "    <tr>\n",
       "      <th>3</th>\n",
       "      <td>1</td>\n",
       "      <td>Episode One: Whither Canada?</td>\n",
       "      <td>NaN</td>\n",
       "      <td>Direction</td>\n",
       "      <td>NaN</td>\n",
       "      <td>NaN</td>\n",
       "      <td>Titles beginning with words \"Monty Python's Fl...</td>\n",
       "    </tr>\n",
       "    <tr>\n",
       "      <th>4</th>\n",
       "      <td>1</td>\n",
       "      <td>Episode One: Whither Canada?</td>\n",
       "      <td>NaN</td>\n",
       "      <td>Direction</td>\n",
       "      <td>NaN</td>\n",
       "      <td>NaN</td>\n",
       "      <td>Ordinary grey-suited announcer standing by des...</td>\n",
       "    </tr>\n",
       "  </tbody>\n",
       "</table>\n",
       "</div>"
      ],
      "text/plain": [
       "   episode                  episode_name segment       type          actor  \\\n",
       "0        1  Episode One: Whither Canada?     NaN  Direction            NaN   \n",
       "1        1  Episode One: Whither Canada?     NaN   Dialogue  Michael Palin   \n",
       "2        1  Episode One: Whither Canada?     NaN   Dialogue    John Cleese   \n",
       "3        1  Episode One: Whither Canada?     NaN  Direction            NaN   \n",
       "4        1  Episode One: Whither Canada?     NaN  Direction            NaN   \n",
       "\n",
       "    character                                             detail  \n",
       "0         NaN  A seashore. Some way out to sea a ragged man i...  \n",
       "1    It's Man                                            It's...  \n",
       "2  Voice Over                      Monty Python's Flying Circus.  \n",
       "3         NaN  Titles beginning with words \"Monty Python's Fl...  \n",
       "4         NaN  Ordinary grey-suited announcer standing by des...  "
      ]
     },
     "execution_count": 5,
     "metadata": {},
     "output_type": "execute_result"
    }
   ],
   "source": [
    "scripts_df.head()"
   ]
  },
  {
   "cell_type": "code",
   "execution_count": 6,
   "metadata": {
    "collapsed": true
   },
   "outputs": [],
   "source": [
    "df = scripts_df.merge(detail_df, on=['episode'])"
   ]
  },
  {
   "cell_type": "code",
   "execution_count": 13,
   "metadata": {
    "collapsed": true
   },
   "outputs": [],
   "source": [
    "df.to_excel('merged.xlsx')"
   ]
  },
  {
   "cell_type": "code",
   "execution_count": 10,
   "metadata": {},
   "outputs": [],
   "source": [
    "import sqlite3\n",
    "conn = sqlite3.connect('database.sqlite')\n",
    "df.to_sql(con=conn, name='scripts')"
   ]
  },
  {
   "cell_type": "code",
   "execution_count": 11,
   "metadata": {
    "collapsed": true
   },
   "outputs": [],
   "source": [
    "conn.close()"
   ]
  },
  {
   "cell_type": "code",
   "execution_count": null,
   "metadata": {
    "collapsed": true
   },
   "outputs": [],
   "source": []
  }
 ],
 "metadata": {
  "anaconda-cloud": {},
  "kernelspec": {
   "display_name": "Python [Root]",
   "language": "python",
   "name": "Python [Root]"
  },
  "language_info": {
   "codemirror_mode": {
    "name": "ipython",
    "version": 3
   },
   "file_extension": ".py",
   "mimetype": "text/x-python",
   "name": "python",
   "nbconvert_exporter": "python",
   "pygments_lexer": "ipython3",
   "version": "3.5.2"
  }
 },
 "nbformat": 4,
 "nbformat_minor": 2
}
